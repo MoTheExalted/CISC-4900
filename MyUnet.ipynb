{
 "cells": [
  {
   "cell_type": "markdown",
   "metadata": {},
   "source": [
    "# Training a U-net Model from Scratch "
   ]
  },
  {
   "cell_type": "markdown",
   "metadata": {},
   "source": [
    "# Loading The Data"
   ]
  },
  {
   "cell_type": "code",
   "execution_count": 32,
   "metadata": {},
   "outputs": [],
   "source": [
    "import os\n",
    "import torch\n",
    "import torch.nn as nn\n",
    "from torch.utils.data import Dataset, DataLoader\n",
    "import torchvision.transforms as transforms\n",
    "import pydicom\n",
    "from PIL import Image\n",
    "import numpy as np"
   ]
  },
  {
   "cell_type": "markdown",
   "metadata": {},
   "source": [
    "First, I need to make a data structure that contains pairs of an image along with its binary masks. \n"
   ]
  },
  {
   "cell_type": "code",
   "execution_count": 4,
   "metadata": {},
   "outputs": [
    {
     "name": "stdout",
     "output_type": "stream",
     "text": [
      "('mask_and_mri\\\\SC-HF-I-01\\\\images\\\\IM-0001-0048.dcm', ['mask_and_mri\\\\SC-HF-I-01\\\\masks\\\\IM-0001-0048_icontour_1_mask.png'])\n",
      "('mask_and_mri\\\\SC-HF-I-01\\\\images\\\\IM-0001-0059.dcm', ['mask_and_mri\\\\SC-HF-I-01\\\\masks\\\\IM-0001-0059_icontour_1_mask.png', 'mask_and_mri\\\\SC-HF-I-01\\\\masks\\\\IM-0001-0059_ocontour_1_mask.png'])\n",
      "('mask_and_mri\\\\SC-HF-I-01\\\\images\\\\IM-0001-0068.dcm', ['mask_and_mri\\\\SC-HF-I-01\\\\masks\\\\IM-0001-0068_icontour_1_mask.png'])\n",
      "('mask_and_mri\\\\SC-HF-I-01\\\\images\\\\IM-0001-0079.dcm', ['mask_and_mri\\\\SC-HF-I-01\\\\masks\\\\IM-0001-0079_icontour_1_mask.png', 'mask_and_mri\\\\SC-HF-I-01\\\\masks\\\\IM-0001-0079_ocontour_1_mask.png'])\n",
      "('mask_and_mri\\\\SC-HF-I-01\\\\images\\\\IM-0001-0088.dcm', ['mask_and_mri\\\\SC-HF-I-01\\\\masks\\\\IM-0001-0088_icontour_1_mask.png'])\n",
      "('mask_and_mri\\\\SC-HF-I-01\\\\images\\\\IM-0001-0099.dcm', ['mask_and_mri\\\\SC-HF-I-01\\\\masks\\\\IM-0001-0099_icontour_1_mask.png', 'mask_and_mri\\\\SC-HF-I-01\\\\masks\\\\IM-0001-0099_ocontour_1_mask.png', 'mask_and_mri\\\\SC-HF-I-01\\\\masks\\\\IM-0001-0099_p1contour_1_mask.png', 'mask_and_mri\\\\SC-HF-I-01\\\\masks\\\\IM-0001-0099_p2contour_1_mask.png'])\n",
      "('mask_and_mri\\\\SC-HF-I-01\\\\images\\\\IM-0001-0108.dcm', ['mask_and_mri\\\\SC-HF-I-01\\\\masks\\\\IM-0001-0108_icontour_1_mask.png'])\n",
      "('mask_and_mri\\\\SC-HF-I-01\\\\images\\\\IM-0001-0119.dcm', ['mask_and_mri\\\\SC-HF-I-01\\\\masks\\\\IM-0001-0119_icontour_1_mask.png', 'mask_and_mri\\\\SC-HF-I-01\\\\masks\\\\IM-0001-0119_ocontour_1_mask.png', 'mask_and_mri\\\\SC-HF-I-01\\\\masks\\\\IM-0001-0119_p1contour_1_mask.png', 'mask_and_mri\\\\SC-HF-I-01\\\\masks\\\\IM-0001-0119_p2contour_1_mask.png'])\n",
      "('mask_and_mri\\\\SC-HF-I-01\\\\images\\\\IM-0001-0128.dcm', ['mask_and_mri\\\\SC-HF-I-01\\\\masks\\\\IM-0001-0128_icontour_1_mask.png'])\n",
      "('mask_and_mri\\\\SC-HF-I-01\\\\images\\\\IM-0001-0139.dcm', ['mask_and_mri\\\\SC-HF-I-01\\\\masks\\\\IM-0001-0139_icontour_1_mask.png', 'mask_and_mri\\\\SC-HF-I-01\\\\masks\\\\IM-0001-0139_ocontour_1_mask.png', 'mask_and_mri\\\\SC-HF-I-01\\\\masks\\\\IM-0001-0139_p1contour_1_mask.png', 'mask_and_mri\\\\SC-HF-I-01\\\\masks\\\\IM-0001-0139_p2contour_1_mask.png'])\n",
      "('mask_and_mri\\\\SC-HF-I-01\\\\images\\\\IM-0001-0148.dcm', ['mask_and_mri\\\\SC-HF-I-01\\\\masks\\\\IM-0001-0148_icontour_1_mask.png'])\n",
      "('mask_and_mri\\\\SC-HF-I-01\\\\images\\\\IM-0001-0159.dcm', ['mask_and_mri\\\\SC-HF-I-01\\\\masks\\\\IM-0001-0159_icontour_1_mask.png', 'mask_and_mri\\\\SC-HF-I-01\\\\masks\\\\IM-0001-0159_ocontour_1_mask.png'])\n",
      "('mask_and_mri\\\\SC-HF-I-01\\\\images\\\\IM-0001-0168.dcm', ['mask_and_mri\\\\SC-HF-I-01\\\\masks\\\\IM-0001-0168_icontour_1_mask.png'])\n",
      "('mask_and_mri\\\\SC-HF-I-01\\\\images\\\\IM-0001-0179.dcm', ['mask_and_mri\\\\SC-HF-I-01\\\\masks\\\\IM-0001-0179_icontour_1_mask.png', 'mask_and_mri\\\\SC-HF-I-01\\\\masks\\\\IM-0001-0179_ocontour_1_mask.png'])\n",
      "('mask_and_mri\\\\SC-HF-I-01\\\\images\\\\IM-0001-0188.dcm', ['mask_and_mri\\\\SC-HF-I-01\\\\masks\\\\IM-0001-0188_icontour_1_mask.png'])\n",
      "('mask_and_mri\\\\SC-HF-I-01\\\\images\\\\IM-0001-0199.dcm', ['mask_and_mri\\\\SC-HF-I-01\\\\masks\\\\IM-0001-0199_icontour_1_mask.png', 'mask_and_mri\\\\SC-HF-I-01\\\\masks\\\\IM-0001-0199_ocontour_1_mask.png'])\n",
      "('mask_and_mri\\\\SC-HF-I-01\\\\images\\\\IM-0001-0208.dcm', ['mask_and_mri\\\\SC-HF-I-01\\\\masks\\\\IM-0001-0208_icontour_1_mask.png'])\n",
      "('mask_and_mri\\\\SC-HF-I-01\\\\images\\\\IM-0001-0219.dcm', ['mask_and_mri\\\\SC-HF-I-01\\\\masks\\\\IM-0001-0219_icontour_1_mask.png', 'mask_and_mri\\\\SC-HF-I-01\\\\masks\\\\IM-0001-0219_ocontour_1_mask.png'])\n",
      "('mask_and_mri\\\\SC-HF-I-02\\\\images\\\\IM-0001-0047.dcm', ['mask_and_mri\\\\SC-HF-I-02\\\\masks\\\\IM-0001-0047_icontour_2_mask.png'])\n",
      "('mask_and_mri\\\\SC-HF-I-02\\\\images\\\\IM-0001-0060.dcm', ['mask_and_mri\\\\SC-HF-I-02\\\\masks\\\\IM-0001-0060_icontour_2_mask.png', 'mask_and_mri\\\\SC-HF-I-02\\\\masks\\\\IM-0001-0060_ocontour_2_mask.png'])\n",
      "('mask_and_mri\\\\SC-HF-I-02\\\\images\\\\IM-0001-0067.dcm', ['mask_and_mri\\\\SC-HF-I-02\\\\masks\\\\IM-0001-0067_icontour_2_mask.png'])\n",
      "('mask_and_mri\\\\SC-HF-I-02\\\\images\\\\IM-0001-0080.dcm', ['mask_and_mri\\\\SC-HF-I-02\\\\masks\\\\IM-0001-0080_icontour_2_mask.png', 'mask_and_mri\\\\SC-HF-I-02\\\\masks\\\\IM-0001-0080_ocontour_2_mask.png', 'mask_and_mri\\\\SC-HF-I-02\\\\masks\\\\IM-0001-0080_p2contour_2_mask.png'])\n",
      "('mask_and_mri\\\\SC-HF-I-02\\\\images\\\\IM-0001-0087.dcm', ['mask_and_mri\\\\SC-HF-I-02\\\\masks\\\\IM-0001-0087_icontour_2_mask.png'])\n",
      "('mask_and_mri\\\\SC-HF-I-02\\\\images\\\\IM-0001-0100.dcm', ['mask_and_mri\\\\SC-HF-I-02\\\\masks\\\\IM-0001-0100_icontour_2_mask.png', 'mask_and_mri\\\\SC-HF-I-02\\\\masks\\\\IM-0001-0100_ocontour_2_mask.png', 'mask_and_mri\\\\SC-HF-I-02\\\\masks\\\\IM-0001-0100_p1contour_2_mask.png', 'mask_and_mri\\\\SC-HF-I-02\\\\masks\\\\IM-0001-0100_p2contour_2_mask.png'])\n",
      "('mask_and_mri\\\\SC-HF-I-02\\\\images\\\\IM-0001-0107.dcm', ['mask_and_mri\\\\SC-HF-I-02\\\\masks\\\\IM-0001-0107_icontour_2_mask.png'])\n",
      "('mask_and_mri\\\\SC-HF-I-02\\\\images\\\\IM-0001-0120.dcm', ['mask_and_mri\\\\SC-HF-I-02\\\\masks\\\\IM-0001-0120_icontour_2_mask.png', 'mask_and_mri\\\\SC-HF-I-02\\\\masks\\\\IM-0001-0120_ocontour_2_mask.png', 'mask_and_mri\\\\SC-HF-I-02\\\\masks\\\\IM-0001-0120_p1contour_2_mask.png', 'mask_and_mri\\\\SC-HF-I-02\\\\masks\\\\IM-0001-0120_p2contour_2_mask.png'])\n",
      "('mask_and_mri\\\\SC-HF-I-02\\\\images\\\\IM-0001-0127.dcm', ['mask_and_mri\\\\SC-HF-I-02\\\\masks\\\\IM-0001-0127_icontour_2_mask.png'])\n",
      "('mask_and_mri\\\\SC-HF-I-02\\\\images\\\\IM-0001-0140.dcm', ['mask_and_mri\\\\SC-HF-I-02\\\\masks\\\\IM-0001-0140_icontour_2_mask.png', 'mask_and_mri\\\\SC-HF-I-02\\\\masks\\\\IM-0001-0140_ocontour_2_mask.png', 'mask_and_mri\\\\SC-HF-I-02\\\\masks\\\\IM-0001-0140_p1contour_2_mask.png', 'mask_and_mri\\\\SC-HF-I-02\\\\masks\\\\IM-0001-0140_p2contour_2_mask.png'])\n",
      "('mask_and_mri\\\\SC-HF-I-02\\\\images\\\\IM-0001-0147.dcm', ['mask_and_mri\\\\SC-HF-I-02\\\\masks\\\\IM-0001-0147_icontour_2_mask.png'])\n",
      "('mask_and_mri\\\\SC-HF-I-02\\\\images\\\\IM-0001-0160.dcm', ['mask_and_mri\\\\SC-HF-I-02\\\\masks\\\\IM-0001-0160_icontour_2_mask.png', 'mask_and_mri\\\\SC-HF-I-02\\\\masks\\\\IM-0001-0160_ocontour_2_mask.png', 'mask_and_mri\\\\SC-HF-I-02\\\\masks\\\\IM-0001-0160_p1contour_2_mask.png', 'mask_and_mri\\\\SC-HF-I-02\\\\masks\\\\IM-0001-0160_p2contour_2_mask.png'])\n",
      "260\n"
     ]
    }
   ],
   "source": [
    "root_dir = \"mask_and_mri\"\n",
    "\n",
    "data = []  # List to store image-masks pairs\n",
    "\n",
    "# Iterate over patient directories in mask_and_mri\n",
    "for patient_dir in os.listdir(root_dir):\n",
    "    patient_path = os.path.join(root_dir, patient_dir)\n",
    "    if os.path.isdir(patient_path):\n",
    "        images_dir = os.path.join(patient_path, \"images\")\n",
    "        masks_dir = os.path.join(patient_path, \"masks\")\n",
    "        \n",
    "        # Iterate over image files\n",
    "        for image_file in os.listdir(images_dir):\n",
    "            if image_file.endswith(\".dcm\"):\n",
    "                image_path = os.path.join(images_dir, image_file)\n",
    "                \n",
    "                # Extract image ID\n",
    "                image_id = image_file[:-4]  # Remove extension\n",
    "                \n",
    "                # Find corresponding masks\n",
    "                masks = []\n",
    "                for mask_file in os.listdir(masks_dir):\n",
    "                    if image_id in mask_file:\n",
    "                        mask_path = os.path.join(masks_dir, mask_file)\n",
    "                        masks.append(mask_path)\n",
    "                \n",
    "                # Append image-masks pair to the data list\n",
    "                data.append((image_path, masks))\n",
    "\n",
    "# Print first few entries for verification\n",
    "for i in range(30):\n",
    "    print(data[i])\n",
    "    \n",
    "print(len(data))"
   ]
  },
  {
   "cell_type": "code",
   "execution_count": 9,
   "metadata": {},
   "outputs": [
    {
     "name": "stdout",
     "output_type": "stream",
     "text": [
      "mask_and_mri\\SC-HF-I-01\\images\\IM-0001-0048.dcm\n",
      "['mask_and_mri\\\\SC-HF-I-01\\\\masks\\\\IM-0001-0048_icontour_1_mask.png']\n"
     ]
    },
    {
     "data": {
      "text/plain": [
       "('mask_and_mri\\\\SC-HF-I-01\\\\images\\\\IM-0001-0048.dcm',\n",
       " ['mask_and_mri\\\\SC-HF-I-01\\\\masks\\\\IM-0001-0048_icontour_1_mask.png'])"
      ]
     },
     "execution_count": 9,
     "metadata": {},
     "output_type": "execute_result"
    }
   ],
   "source": [
    "image, masks = data[0]\n",
    "print(image)\n",
    "print(masks)\n",
    "data[0]"
   ]
  },
  {
   "cell_type": "code",
   "execution_count": 45,
   "metadata": {},
   "outputs": [
    {
     "ename": "RuntimeError",
     "evalue": "each element in list of batch should be of equal size",
     "output_type": "error",
     "traceback": [
      "\u001b[1;31m---------------------------------------------------------------------------\u001b[0m",
      "\u001b[1;31mRuntimeError\u001b[0m                              Traceback (most recent call last)",
      "Cell \u001b[1;32mIn[45], line 30\u001b[0m\n\u001b[0;32m     27\u001b[0m \u001b[38;5;28mlen\u001b[39m(data_loader)\n\u001b[0;32m     29\u001b[0m \u001b[38;5;66;03m# Assuming data_loader is your DataLoader object\u001b[39;00m\n\u001b[1;32m---> 30\u001b[0m \u001b[38;5;28;43;01mfor\u001b[39;49;00m\u001b[43m \u001b[49m\u001b[43mbatch_idx\u001b[49m\u001b[43m,\u001b[49m\u001b[43m \u001b[49m\u001b[43m(\u001b[49m\u001b[43mimages\u001b[49m\u001b[43m,\u001b[49m\u001b[43m \u001b[49m\u001b[43mmasks\u001b[49m\u001b[43m)\u001b[49m\u001b[43m \u001b[49m\u001b[38;5;129;43;01min\u001b[39;49;00m\u001b[43m \u001b[49m\u001b[38;5;28;43menumerate\u001b[39;49m\u001b[43m(\u001b[49m\u001b[43mdata_loader\u001b[49m\u001b[43m)\u001b[49m\u001b[43m:\u001b[49m\n\u001b[0;32m     31\u001b[0m \u001b[43m    \u001b[49m\u001b[38;5;28;43mprint\u001b[39;49m\u001b[43m(\u001b[49m\u001b[38;5;124;43mf\u001b[39;49m\u001b[38;5;124;43m\"\u001b[39;49m\u001b[38;5;124;43mBatch \u001b[39;49m\u001b[38;5;132;43;01m{\u001b[39;49;00m\u001b[43mbatch_idx\u001b[49m\u001b[38;5;250;43m \u001b[39;49m\u001b[38;5;241;43m+\u001b[39;49m\u001b[38;5;250;43m \u001b[39;49m\u001b[38;5;241;43m1\u001b[39;49m\u001b[38;5;132;43;01m}\u001b[39;49;00m\u001b[38;5;124;43m:\u001b[39;49m\u001b[38;5;124;43m\"\u001b[39;49m\u001b[43m)\u001b[49m\n\u001b[0;32m     33\u001b[0m \u001b[43m    \u001b[49m\u001b[38;5;66;43;03m# Print sizes of images in the batch\u001b[39;49;00m\n",
      "File \u001b[1;32m~\\AppData\\Local\\Packages\\PythonSoftwareFoundation.Python.3.12_qbz5n2kfra8p0\\LocalCache\\local-packages\\Python312\\site-packages\\torch\\utils\\data\\dataloader.py:631\u001b[0m, in \u001b[0;36m_BaseDataLoaderIter.__next__\u001b[1;34m(self)\u001b[0m\n\u001b[0;32m    628\u001b[0m \u001b[38;5;28;01mif\u001b[39;00m \u001b[38;5;28mself\u001b[39m\u001b[38;5;241m.\u001b[39m_sampler_iter \u001b[38;5;129;01mis\u001b[39;00m \u001b[38;5;28;01mNone\u001b[39;00m:\n\u001b[0;32m    629\u001b[0m     \u001b[38;5;66;03m# TODO(https://github.com/pytorch/pytorch/issues/76750)\u001b[39;00m\n\u001b[0;32m    630\u001b[0m     \u001b[38;5;28mself\u001b[39m\u001b[38;5;241m.\u001b[39m_reset()  \u001b[38;5;66;03m# type: ignore[call-arg]\u001b[39;00m\n\u001b[1;32m--> 631\u001b[0m data \u001b[38;5;241m=\u001b[39m \u001b[38;5;28;43mself\u001b[39;49m\u001b[38;5;241;43m.\u001b[39;49m\u001b[43m_next_data\u001b[49m\u001b[43m(\u001b[49m\u001b[43m)\u001b[49m\n\u001b[0;32m    632\u001b[0m \u001b[38;5;28mself\u001b[39m\u001b[38;5;241m.\u001b[39m_num_yielded \u001b[38;5;241m+\u001b[39m\u001b[38;5;241m=\u001b[39m \u001b[38;5;241m1\u001b[39m\n\u001b[0;32m    633\u001b[0m \u001b[38;5;28;01mif\u001b[39;00m \u001b[38;5;28mself\u001b[39m\u001b[38;5;241m.\u001b[39m_dataset_kind \u001b[38;5;241m==\u001b[39m _DatasetKind\u001b[38;5;241m.\u001b[39mIterable \u001b[38;5;129;01mand\u001b[39;00m \\\n\u001b[0;32m    634\u001b[0m         \u001b[38;5;28mself\u001b[39m\u001b[38;5;241m.\u001b[39m_IterableDataset_len_called \u001b[38;5;129;01mis\u001b[39;00m \u001b[38;5;129;01mnot\u001b[39;00m \u001b[38;5;28;01mNone\u001b[39;00m \u001b[38;5;129;01mand\u001b[39;00m \\\n\u001b[0;32m    635\u001b[0m         \u001b[38;5;28mself\u001b[39m\u001b[38;5;241m.\u001b[39m_num_yielded \u001b[38;5;241m>\u001b[39m \u001b[38;5;28mself\u001b[39m\u001b[38;5;241m.\u001b[39m_IterableDataset_len_called:\n",
      "File \u001b[1;32m~\\AppData\\Local\\Packages\\PythonSoftwareFoundation.Python.3.12_qbz5n2kfra8p0\\LocalCache\\local-packages\\Python312\\site-packages\\torch\\utils\\data\\dataloader.py:675\u001b[0m, in \u001b[0;36m_SingleProcessDataLoaderIter._next_data\u001b[1;34m(self)\u001b[0m\n\u001b[0;32m    673\u001b[0m \u001b[38;5;28;01mdef\u001b[39;00m \u001b[38;5;21m_next_data\u001b[39m(\u001b[38;5;28mself\u001b[39m):\n\u001b[0;32m    674\u001b[0m     index \u001b[38;5;241m=\u001b[39m \u001b[38;5;28mself\u001b[39m\u001b[38;5;241m.\u001b[39m_next_index()  \u001b[38;5;66;03m# may raise StopIteration\u001b[39;00m\n\u001b[1;32m--> 675\u001b[0m     data \u001b[38;5;241m=\u001b[39m \u001b[38;5;28;43mself\u001b[39;49m\u001b[38;5;241;43m.\u001b[39;49m\u001b[43m_dataset_fetcher\u001b[49m\u001b[38;5;241;43m.\u001b[39;49m\u001b[43mfetch\u001b[49m\u001b[43m(\u001b[49m\u001b[43mindex\u001b[49m\u001b[43m)\u001b[49m  \u001b[38;5;66;03m# may raise StopIteration\u001b[39;00m\n\u001b[0;32m    676\u001b[0m     \u001b[38;5;28;01mif\u001b[39;00m \u001b[38;5;28mself\u001b[39m\u001b[38;5;241m.\u001b[39m_pin_memory:\n\u001b[0;32m    677\u001b[0m         data \u001b[38;5;241m=\u001b[39m _utils\u001b[38;5;241m.\u001b[39mpin_memory\u001b[38;5;241m.\u001b[39mpin_memory(data, \u001b[38;5;28mself\u001b[39m\u001b[38;5;241m.\u001b[39m_pin_memory_device)\n",
      "File \u001b[1;32m~\\AppData\\Local\\Packages\\PythonSoftwareFoundation.Python.3.12_qbz5n2kfra8p0\\LocalCache\\local-packages\\Python312\\site-packages\\torch\\utils\\data\\_utils\\fetch.py:54\u001b[0m, in \u001b[0;36m_MapDatasetFetcher.fetch\u001b[1;34m(self, possibly_batched_index)\u001b[0m\n\u001b[0;32m     52\u001b[0m \u001b[38;5;28;01melse\u001b[39;00m:\n\u001b[0;32m     53\u001b[0m     data \u001b[38;5;241m=\u001b[39m \u001b[38;5;28mself\u001b[39m\u001b[38;5;241m.\u001b[39mdataset[possibly_batched_index]\n\u001b[1;32m---> 54\u001b[0m \u001b[38;5;28;01mreturn\u001b[39;00m \u001b[38;5;28;43mself\u001b[39;49m\u001b[38;5;241;43m.\u001b[39;49m\u001b[43mcollate_fn\u001b[49m\u001b[43m(\u001b[49m\u001b[43mdata\u001b[49m\u001b[43m)\u001b[49m\n",
      "File \u001b[1;32m~\\AppData\\Local\\Packages\\PythonSoftwareFoundation.Python.3.12_qbz5n2kfra8p0\\LocalCache\\local-packages\\Python312\\site-packages\\torch\\utils\\data\\_utils\\collate.py:277\u001b[0m, in \u001b[0;36mdefault_collate\u001b[1;34m(batch)\u001b[0m\n\u001b[0;32m    216\u001b[0m \u001b[38;5;28;01mdef\u001b[39;00m \u001b[38;5;21mdefault_collate\u001b[39m(batch):\n\u001b[0;32m    217\u001b[0m \u001b[38;5;250m    \u001b[39m\u001b[38;5;124mr\u001b[39m\u001b[38;5;124;03m\"\"\"\u001b[39;00m\n\u001b[0;32m    218\u001b[0m \u001b[38;5;124;03m    Take in a batch of data and put the elements within the batch into a tensor with an additional outer dimension - batch size.\u001b[39;00m\n\u001b[0;32m    219\u001b[0m \n\u001b[1;32m   (...)\u001b[0m\n\u001b[0;32m    275\u001b[0m \u001b[38;5;124;03m        >>> default_collate(batch)  # Handle `CustomType` automatically\u001b[39;00m\n\u001b[0;32m    276\u001b[0m \u001b[38;5;124;03m    \"\"\"\u001b[39;00m\n\u001b[1;32m--> 277\u001b[0m     \u001b[38;5;28;01mreturn\u001b[39;00m \u001b[43mcollate\u001b[49m\u001b[43m(\u001b[49m\u001b[43mbatch\u001b[49m\u001b[43m,\u001b[49m\u001b[43m \u001b[49m\u001b[43mcollate_fn_map\u001b[49m\u001b[38;5;241;43m=\u001b[39;49m\u001b[43mdefault_collate_fn_map\u001b[49m\u001b[43m)\u001b[49m\n",
      "File \u001b[1;32m~\\AppData\\Local\\Packages\\PythonSoftwareFoundation.Python.3.12_qbz5n2kfra8p0\\LocalCache\\local-packages\\Python312\\site-packages\\torch\\utils\\data\\_utils\\collate.py:144\u001b[0m, in \u001b[0;36mcollate\u001b[1;34m(batch, collate_fn_map)\u001b[0m\n\u001b[0;32m    141\u001b[0m transposed \u001b[38;5;241m=\u001b[39m \u001b[38;5;28mlist\u001b[39m(\u001b[38;5;28mzip\u001b[39m(\u001b[38;5;241m*\u001b[39mbatch))  \u001b[38;5;66;03m# It may be accessed twice, so we use a list.\u001b[39;00m\n\u001b[0;32m    143\u001b[0m \u001b[38;5;28;01mif\u001b[39;00m \u001b[38;5;28misinstance\u001b[39m(elem, \u001b[38;5;28mtuple\u001b[39m):\n\u001b[1;32m--> 144\u001b[0m     \u001b[38;5;28;01mreturn\u001b[39;00m [\u001b[43mcollate\u001b[49m\u001b[43m(\u001b[49m\u001b[43msamples\u001b[49m\u001b[43m,\u001b[49m\u001b[43m \u001b[49m\u001b[43mcollate_fn_map\u001b[49m\u001b[38;5;241;43m=\u001b[39;49m\u001b[43mcollate_fn_map\u001b[49m\u001b[43m)\u001b[49m \u001b[38;5;28;01mfor\u001b[39;00m samples \u001b[38;5;129;01min\u001b[39;00m transposed]  \u001b[38;5;66;03m# Backwards compatibility.\u001b[39;00m\n\u001b[0;32m    145\u001b[0m \u001b[38;5;28;01melse\u001b[39;00m:\n\u001b[0;32m    146\u001b[0m     \u001b[38;5;28;01mtry\u001b[39;00m:\n",
      "File \u001b[1;32m~\\AppData\\Local\\Packages\\PythonSoftwareFoundation.Python.3.12_qbz5n2kfra8p0\\LocalCache\\local-packages\\Python312\\site-packages\\torch\\utils\\data\\_utils\\collate.py:140\u001b[0m, in \u001b[0;36mcollate\u001b[1;34m(batch, collate_fn_map)\u001b[0m\n\u001b[0;32m    138\u001b[0m elem_size \u001b[38;5;241m=\u001b[39m \u001b[38;5;28mlen\u001b[39m(\u001b[38;5;28mnext\u001b[39m(it))\n\u001b[0;32m    139\u001b[0m \u001b[38;5;28;01mif\u001b[39;00m \u001b[38;5;129;01mnot\u001b[39;00m \u001b[38;5;28mall\u001b[39m(\u001b[38;5;28mlen\u001b[39m(elem) \u001b[38;5;241m==\u001b[39m elem_size \u001b[38;5;28;01mfor\u001b[39;00m elem \u001b[38;5;129;01min\u001b[39;00m it):\n\u001b[1;32m--> 140\u001b[0m     \u001b[38;5;28;01mraise\u001b[39;00m \u001b[38;5;167;01mRuntimeError\u001b[39;00m(\u001b[38;5;124m'\u001b[39m\u001b[38;5;124meach element in list of batch should be of equal size\u001b[39m\u001b[38;5;124m'\u001b[39m)\n\u001b[0;32m    141\u001b[0m transposed \u001b[38;5;241m=\u001b[39m \u001b[38;5;28mlist\u001b[39m(\u001b[38;5;28mzip\u001b[39m(\u001b[38;5;241m*\u001b[39mbatch))  \u001b[38;5;66;03m# It may be accessed twice, so we use a list.\u001b[39;00m\n\u001b[0;32m    143\u001b[0m \u001b[38;5;28;01mif\u001b[39;00m \u001b[38;5;28misinstance\u001b[39m(elem, \u001b[38;5;28mtuple\u001b[39m):\n",
      "\u001b[1;31mRuntimeError\u001b[0m: each element in list of batch should be of equal size"
     ]
    }
   ],
   "source": [
    "\n",
    "class CustomDataset(Dataset):\n",
    "    def __init__(self, data, transform=None):\n",
    "        self.data = data\n",
    "        self.transform = transform\n",
    "\n",
    "    def __len__(self):\n",
    "        return len(self.data)\n",
    "\n",
    "    def __getitem__(self, idx):\n",
    "        image_path, mask_paths = self.data[idx]\n",
    "        image = pydicom.dcmread(image_path).pixel_array.astype(np.float32)  # Convert DICOM pixel data to NumPy array\n",
    "\n",
    "        images = [image] * len(mask_paths)  # Duplicate the image for each mask\n",
    "\n",
    "        masks = [np.array(Image.open(mask_path)).astype(np.float32) for mask_path in mask_paths]  # Ensure masks are float32\n",
    "\n",
    "        if self.transform:\n",
    "            images = [self.transform(img) for img in images]\n",
    "\n",
    "        image_tensors = [torch.from_numpy(img) for img in images]\n",
    "        masks_tensors = [torch.from_numpy(mask) for mask in masks]\n",
    "\n",
    "        return image_tensors, masks_tensors\n",
    "\n",
    "dataset = CustomDataset(data)\n",
    "data_loader = DataLoader(dataset, batch_size=4, shuffle=True)\n",
    "len(data_loader)\n",
    "\n",
    "# Assuming data_loader is your DataLoader object\n",
    "for batch_idx, (images, masks) in enumerate(data_loader):\n",
    "    print(f\"Batch {batch_idx + 1}:\")\n",
    "    \n",
    "    # Print sizes of images in the batch\n",
    "    print(\"Image sizes:\")\n",
    "    for img in images:\n",
    "        print(img.size())\n",
    "    \n",
    "    # Print sizes of masks in the batch\n",
    "    print(\"Mask sizes:\")\n",
    "    for mask in masks:\n",
    "        print(mask.size())"
   ]
  }
 ],
 "metadata": {
  "kernelspec": {
   "display_name": "Python 3",
   "language": "python",
   "name": "python3"
  },
  "language_info": {
   "codemirror_mode": {
    "name": "ipython",
    "version": 3
   },
   "file_extension": ".py",
   "mimetype": "text/x-python",
   "name": "python",
   "nbconvert_exporter": "python",
   "pygments_lexer": "ipython3",
   "version": "3.12.2"
  }
 },
 "nbformat": 4,
 "nbformat_minor": 2
}
